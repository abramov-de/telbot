{
  "nbformat": 4,
  "nbformat_minor": 0,
  "metadata": {
    "colab": {
      "provenance": []
    },
    "kernelspec": {
      "name": "python3",
      "display_name": "Python 3"
    },
    "language_info": {
      "name": "python"
    }
  },
  "cells": [
    {
      "cell_type": "code",
      "execution_count": 1,
      "metadata": {
        "colab": {
          "base_uri": "https://localhost:8080/"
        },
        "id": "BqtYVlFxDx3P",
        "outputId": "0f38828d-2b36-4b9a-b0bf-40fdb5b6d648"
      },
      "outputs": [
        {
          "output_type": "stream",
          "name": "stdout",
          "text": [
            "Collecting pyTelegramBotAPI\n",
            "  Downloading pyTelegramBotAPI-4.13.0.tar.gz (232 kB)\n",
            "\u001b[2K     \u001b[90m━━━━━━━━━━━━━━━━━━━━━━━━━━━━━━━━━━━━━━━\u001b[0m \u001b[32m232.8/232.8 kB\u001b[0m \u001b[31m4.0 MB/s\u001b[0m eta \u001b[36m0:00:00\u001b[0m\n",
            "\u001b[?25h  Preparing metadata (setup.py) ... \u001b[?25l\u001b[?25hdone\n",
            "Collecting SpeechRecognition\n",
            "  Downloading SpeechRecognition-3.10.0-py2.py3-none-any.whl (32.8 MB)\n",
            "\u001b[2K     \u001b[90m━━━━━━━━━━━━━━━━━━━━━━━━━━━━━━━━━━━━━━━━\u001b[0m \u001b[32m32.8/32.8 MB\u001b[0m \u001b[31m36.2 MB/s\u001b[0m eta \u001b[36m0:00:00\u001b[0m\n",
            "\u001b[?25hCollecting pydub\n",
            "  Downloading pydub-0.25.1-py2.py3-none-any.whl (32 kB)\n",
            "Requirement already satisfied: requests in /usr/local/lib/python3.10/dist-packages (from pyTelegramBotAPI) (2.31.0)\n",
            "Requirement already satisfied: charset-normalizer<4,>=2 in /usr/local/lib/python3.10/dist-packages (from requests->pyTelegramBotAPI) (3.2.0)\n",
            "Requirement already satisfied: idna<4,>=2.5 in /usr/local/lib/python3.10/dist-packages (from requests->pyTelegramBotAPI) (3.4)\n",
            "Requirement already satisfied: urllib3<3,>=1.21.1 in /usr/local/lib/python3.10/dist-packages (from requests->pyTelegramBotAPI) (2.0.4)\n",
            "Requirement already satisfied: certifi>=2017.4.17 in /usr/local/lib/python3.10/dist-packages (from requests->pyTelegramBotAPI) (2023.7.22)\n",
            "Building wheels for collected packages: pyTelegramBotAPI\n",
            "  Building wheel for pyTelegramBotAPI (setup.py) ... \u001b[?25l\u001b[?25hdone\n",
            "  Created wheel for pyTelegramBotAPI: filename=pyTelegramBotAPI-4.13.0-py3-none-any.whl size=214530 sha256=343843cd1f17b6ece7cbf428e166b4c36bb683f277e8f056d8326fcfa472912e\n",
            "  Stored in directory: /root/.cache/pip/wheels/f7/1a/3b/41e1ce64625e3f11567085dc79043d9fa573a2cc39f9938556\n",
            "Successfully built pyTelegramBotAPI\n",
            "Installing collected packages: pydub, SpeechRecognition, pyTelegramBotAPI\n",
            "Successfully installed SpeechRecognition-3.10.0 pyTelegramBotAPI-4.13.0 pydub-0.25.1\n"
          ]
        }
      ],
      "source": [
        "!pip install pyTelegramBotAPI SpeechRecognition pydub"
      ]
    },
    {
      "cell_type": "code",
      "source": [
        "import os\n",
        "import telebot\n",
        "import speech_recognition\n",
        "from pydub import AudioSegment\n",
        "\n",
        "\n",
        "token = '6609113829:AAGvThcOtkftKx5fU7sHoVFi9jMYfG6HRf4'\n",
        "\n",
        "bot = telebot.TeleBot(token)\n",
        "\n",
        "\n",
        "def download_file(bot, file_id):\n",
        "    file_info = bot.get_file(file_id)\n",
        "    downloaded_file = bot.download_file(file_info.file_path)\n",
        "    filename = file_id + file_info.file_path\n",
        "    filename = filename.replace('/', '_')\n",
        "    with open(filename, 'wb') as f:\n",
        "        f.write(downloaded_file)\n",
        "    return filename\n",
        "\n",
        "\n",
        "@bot.message_handler(content_types=['photo'])\n",
        "def resend_photo(message):\n",
        "    file_id = message.photo[-1].file_id\n",
        "    filename = download_file(bot, file_id)\n",
        "\n",
        "    image = open(filename, 'rb')\n",
        "\n",
        "    bot.send_photo(message.chat.id, image)\n",
        "\n",
        "    image.close()\n",
        "\n",
        "\n",
        "bot.polling()"
      ],
      "metadata": {
        "id": "1xXgLmpzE6gY"
      },
      "execution_count": 2,
      "outputs": []
    }
  ]
}